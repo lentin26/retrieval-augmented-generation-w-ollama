{
 "cells": [
  {
   "cell_type": "markdown",
   "metadata": {},
   "source": [
    "# RAG: Chat with a PDF\n",
    "\n",
    "Author: Maria Lentini\n",
    "\n",
    "Description: Setting Up and Testing \"Chat with a PDF\" for Retrieval-Augmented Generation (RAG) application with Ollama.\n",
    "\n",
    "Relevant links:\n",
    "\n",
    "- RAG tutorial: https://docs.openwebui.com/tutorials/tips/rag-tutorial/\n",
    "\n",
    "- Ollama github: https://github.com/ollama/ollama\n",
    "\n",
    "- Ollama official Docker image: https://hub.docker.com/r/ollama/ollama\n",
    "\n",
    "- Ollama model library: https://ollama.com/library\n"
   ]
  },
  {
   "cell_type": "code",
   "execution_count": 1,
   "metadata": {},
   "outputs": [],
   "source": [
    "import sys\n",
    "from tika import parser # pip install tika\n",
    "\n",
    "if '../src' not in sys.path:\n",
    "    sys.path.append('../src')\n",
    "\n",
    "# import custom module from src/\n",
    "from pdfChatBot import pdfChatBot"
   ]
  },
  {
   "cell_type": "code",
   "execution_count": 7,
   "metadata": {},
   "outputs": [],
   "source": [
    "%load_ext autoreload\n",
    "%autoreload 2"
   ]
  },
  {
   "cell_type": "markdown",
   "metadata": {},
   "source": [
    "### 1. Create ElasticSearch Index\n",
    "\n",
    "First run ``docker compose up`` to spin up ElasticSearch and Ollama containers. Initializing pdfChatBot() does two things:\n",
    "\n",
    "1. Creates an ElasticSearch index with `index_name` \n",
    "2. Downloads the model with `model_name` into the Ollama container"
   ]
  },
  {
   "cell_type": "code",
   "execution_count": 4,
   "metadata": {},
   "outputs": [
    {
     "name": "stdout",
     "output_type": "stream",
     "text": [
      "Failed to create index: {'error': {'root_cause': [{'type': 'resource_already_exists_exception', 'reason': 'index [pdf-chat-bot/T8HhWhQHRduaOiBb-6-uYg] already exists', 'index_uuid': 'T8HhWhQHRduaOiBb-6-uYg', 'index': 'pdf-chat-bot'}], 'type': 'resource_already_exists_exception', 'reason': 'index [pdf-chat-bot/T8HhWhQHRduaOiBb-6-uYg] already exists', 'index_uuid': 'T8HhWhQHRduaOiBb-6-uYg', 'index': 'pdf-chat-bot'}, 'status': 400}\n",
      "Output: \n",
      "Error: \u001b[?25l⠋ \u001b[?25h\u001b[?25l\u001b[2K\u001b[1G⠙ \u001b[?25h\u001b[?25l\u001b[2K\u001b[1G⠹ \u001b[?25h\u001b[?25l\u001b[2K\u001b[1G⠸ \u001b[?25h\u001b[?25l\u001b[2K\u001b[1G⠴ \u001b[?25h\u001b[?25l\u001b[2K\u001b[1G⠴ \u001b[?25h\u001b[?25l\u001b[2K\u001b[1G⠦ \u001b[?25h\u001b[?25l\u001b[2K\u001b[1G⠧ \u001b[?25h\u001b[?25l\u001b[2K\u001b[1G⠇ \u001b[?25h\u001b[?25l\u001b[2K\u001b[1G⠏ \u001b[?25h\u001b[?25l\u001b[2K\u001b[1G⠙ \u001b[?25h\u001b[?25l\u001b[2K\u001b[1G⠹ \u001b[?25h\u001b[?25l\u001b[2K\u001b[1G⠸ \u001b[?25h\u001b[?25l\u001b[2K\u001b[1G⠸ \u001b[?25h\u001b[?25l\u001b[2K\u001b[1G⠼ \u001b[?25h\u001b[?25l\u001b[2K\u001b[1G⠴ \u001b[?25h\u001b[?25l\u001b[2K\u001b[1G⠧ \u001b[?25h\u001b[?25l\u001b[2K\u001b[1G⠧ \u001b[?25h\u001b[?25l\u001b[2K\u001b[1G⠇ \u001b[?25h\u001b[?25l\u001b[2K\u001b[1G⠋ \u001b[?25h\u001b[?25l\u001b[2K\u001b[1G⠋ \u001b[?25h\u001b[?25l\u001b[2K\u001b[1G⠹ \u001b[?25h\u001b[?25l\u001b[2K\u001b[1G⠹ \u001b[?25h\u001b[?25l\u001b[2K\u001b[1G⠼ \u001b[?25h\u001b[?25l\u001b[2K\u001b[1G⠴ \u001b[?25h\u001b[?25l\u001b[2K\u001b[1G⠴ \u001b[?25h\u001b[?25l\u001b[2K\u001b[1G⠦ \u001b[?25h\u001b[?25l\u001b[2K\u001b[1G⠧ \u001b[?25h\u001b[?25l\u001b[2K\u001b[1G⠇ \u001b[?25h\u001b[?25l\u001b[2K\u001b[1G⠏ \u001b[?25h\u001b[?25l\u001b[2K\u001b[1G⠋ \u001b[?25h\u001b[?25l\u001b[2K\u001b[1G⠙ \u001b[?25h\u001b[?25l\u001b[2K\u001b[1G⠹ \u001b[?25h\u001b[?25l\u001b[2K\u001b[1G⠼ \u001b[?25h\u001b[?25l\u001b[2K\u001b[1G⠼ \u001b[?25h\u001b[?25l\u001b[2K\u001b[1G⠴ \u001b[?25h\u001b[?25l\u001b[2K\u001b[1G⠧ \u001b[?25h\u001b[?25l\u001b[2K\u001b[1G⠧ \u001b[?25h\u001b[?25l\u001b[2K\u001b[1G⠇ \u001b[?25h\u001b[?25l\u001b[2K\u001b[1G⠋ \u001b[?25h\u001b[?25l\u001b[2K\u001b[1G⠙ \u001b[?25h\u001b[?25l\u001b[2K\u001b[1G⠙ \u001b[?25h\u001b[?25l\u001b[2K\u001b[1G⠹ \u001b[?25h\u001b[?25l\u001b[2K\u001b[1G⠼ \u001b[?25h\u001b[?25l\u001b[2K\u001b[1G⠼ \u001b[?25h\u001b[?25l\u001b[2K\u001b[1G⠦ \u001b[?25h\u001b[?25l\u001b[?25l\u001b[2K\u001b[1G\u001b[?25h\u001b[2K\u001b[1G\u001b[?25h\u001b[?25l\u001b[?25h\n"
     ]
    }
   ],
   "source": [
    "# init module\n",
    "bot = pdfChatBot(index_name='pdf-chat-bot', model_name='gemma:2b')"
   ]
  },
  {
   "cell_type": "markdown",
   "metadata": {},
   "source": [
    "Ensure that text embedding is working. Get embedding dimension."
   ]
  },
  {
   "cell_type": "code",
   "execution_count": 8,
   "metadata": {},
   "outputs": [
    {
     "name": "stdout",
     "output_type": "stream",
     "text": [
      "2048\n"
     ]
    }
   ],
   "source": [
    "# create a sample embedding and verify it's length\n",
    "# embedding length must match in elastic search\n",
    "embedding = bot.generate_embedding('The weather is fine today.')\n",
    "print(len(embedding))"
   ]
  },
  {
   "cell_type": "markdown",
   "metadata": {},
   "source": [
    "Check that index exists."
   ]
  },
  {
   "cell_type": "code",
   "execution_count": 12,
   "metadata": {},
   "outputs": [
    {
     "data": {
      "text/plain": [
       "True"
      ]
     },
     "execution_count": 12,
     "metadata": {},
     "output_type": "execute_result"
    }
   ],
   "source": [
    "# check that index exists\n",
    "bot.check_index_exists()"
   ]
  },
  {
   "cell_type": "markdown",
   "metadata": {},
   "source": [
    "### 2. Read and Chunk PDF\n",
    "\n",
    "Parse PDF and extract raw text content."
   ]
  },
  {
   "cell_type": "code",
   "execution_count": 71,
   "metadata": {},
   "outputs": [],
   "source": [
    "# read pdf\n",
    "raw = parser.from_file('../data/k9_policy_2002.pdf')\n",
    "\n",
    "# extract content\n",
    "pdf_text = raw['content']"
   ]
  },
  {
   "cell_type": "markdown",
   "metadata": {},
   "source": [
    "Check out a chunk of text. Each chunk will be vectorized using the Ollama model."
   ]
  },
  {
   "cell_type": "code",
   "execution_count": 103,
   "metadata": {},
   "outputs": [
    {
     "name": "stdout",
     "output_type": "stream",
     "text": [
      "Count of chunks: 101\n",
      "\n",
      "7/20021  K-9 TRAINING   K-9 Training Standards and Qualification Requirements for New Jersey Law Enforcement  Issued December 1992 Revised July 1995 Revised July 2002  INTRODUCTION  In April 1992, an Advisory Group was established by the Attorney General to establish a statewide standard for training K-9 teams, that is, police officer handler- police dog teams, utilized in New Jersey law enforcement. This group, comprised of  K-9 officers and representatives from various types of law enforcement agencies throughout New Jersey, was to examine relevant training issues and suggest recommendations for a uniform, statewide training standard.\n"
     ]
    }
   ],
   "source": [
    "chunks = bot.semantically_break_text(pdf_text)\n",
    "\n",
    "print(f'Count of chunks: {len(chunks)}\\n')\n",
    "print(chunks[0])"
   ]
  },
  {
   "cell_type": "markdown",
   "metadata": {},
   "source": [
    "### 3. Index PDF\n",
    "\n",
    "Break the PDF up into paragraph, iterate each paragraph using the Ollama model to create an embeddings, and creating and index for that embedding in ElasticSearch."
   ]
  },
  {
   "cell_type": "code",
   "execution_count": 102,
   "metadata": {},
   "outputs": [
    {
     "name": "stderr",
     "output_type": "stream",
     "text": [
      "100%|██████████| 101/101 [04:26<00:00,  2.64s/it]\n"
     ]
    }
   ],
   "source": [
    "bot.index_pdf_paragraphs(pdf_text)"
   ]
  },
  {
   "cell_type": "markdown",
   "metadata": {},
   "source": [
    "Fetch a document from the index to confirm that indexing worked."
   ]
  },
  {
   "cell_type": "code",
   "execution_count": 104,
   "metadata": {},
   "outputs": [
    {
     "name": "stdout",
     "output_type": "stream",
     "text": [
      "Count of hits: 3\n"
     ]
    }
   ],
   "source": [
    "# Fetch a sample document from the index to verify it's there\n",
    "response = bot.fetch_document_from_es()\n",
    "\n",
    "print('Count of hits:', len(response['hits']))"
   ]
  },
  {
   "cell_type": "markdown",
   "metadata": {},
   "source": [
    "### 4. Perform RAG\n",
    "\n",
    "Use input text to perform a vector search using ElasticSearch, retreiving the top 5 embeddings, and setting the corresponding text as context for the subsequent Ollama chat request.\n",
    "\n",
    "Perform search and format request:"
   ]
  },
  {
   "cell_type": "code",
   "execution_count": 105,
   "metadata": {},
   "outputs": [
    {
     "name": "stdout",
     "output_type": "stream",
     "text": [
      "Top 5 relevant documents:\n",
      "\n",
      "Document 1:\n",
      "2.5.1 The police patrol dog, on command from the police officer handler, will demonstrate the ability to remain in a guard position while the police officer handler searches or questions a \"suspect.\"  2.5.2 When the safety of the police officer handler is threatened, the police patrol dog (without command) will demonstrate the ability to physically apprehend a \"suspect\" until the \"suspect\" is taken into custody (and a release command is issued).\n",
      "\n",
      "Document 2:\n",
      "1.3.5 The police officer handler will identify the general types of information to be included in a departmental K-9 policy, including:  � the circumstances or conditions under which K-9 teams may and may not be utilized;   � the deployment and use of K-9 teams and services;  � the role and responsibilities of the police officer handler, supervisory personnel and other officers;   � reporting requirements and record keeping;   � the training, qualification and re-evaluation of K-9 teams; and   � the care, handling and maintenance of police dogs.\n",
      "\n",
      "Document 3:\n",
      "1.2.10 The police officer handler will demonstrate knowledge of the procedures and commands used during handler protection with a police patrol dog. 1.2.11 The police officer handler will identify acceptable indication signs or signals given by the police patrol dog.\n",
      "\n",
      "Document 4:\n",
      "1.3 POLICY, PROCEDURES AND LEGAL ISSUES  Goal:  The police officer handler will be familiar with legal issues and concerns involving the use of a police dog, in particular, the use of a police patrol dog as a force option as well as issues dealing with policy and procedure and the need for clear policy regarding the use of a police patrol dog.\n",
      "\n",
      "Document 5:\n",
      "While K-9 trainers or supervising K-9 trainers are responsible for the overall K-9 training program, in particular, those areas which involve police officer handler-police dog team training and relevant areas of classroom instruction, specialists should be utilized, as appropriate, to conduct specialty training in their areas of expertise. The K-9    K-9 Training Standards and Qualification Requirements  7/200212  trainer or supervising K-9 trainer has the discretion to identify those areas which are appropriately instructed by specialists or other instructors and the responsibility for determining whether the background or knowledge of the specialist or other instructor is sufficient.\n",
      "\n"
     ]
    }
   ],
   "source": [
    "# From PDF:\n",
    "# \"In April 1992, an Advisory Group was established by the Attorney General to\n",
    "# establish a statewide standard for training K-9 teams...\"\n",
    "query = \"What happened in April 1992?\"\n",
    "\n",
    "# get top 5 hits from es\n",
    "hits = bot.search_similar_paragraphs(query)\n",
    "\n",
    "# format and print context\n",
    "context = bot.format_context(hits)\n",
    "print(context)"
   ]
  },
  {
   "cell_type": "markdown",
   "metadata": {},
   "source": [
    "### Define Questions for Chat Bot"
   ]
  },
  {
   "cell_type": "code",
   "execution_count": 119,
   "metadata": {},
   "outputs": [],
   "source": [
    "query_1 = \"What is the purpose of a police patrol dog?\"\n",
    "query_2 = \"What abilities must the police patrol dog exhibit?\"\n",
    "query_3 = \"What is the A K-9 team comprised of?\"\n",
    "query_4 = \"Describe the basic training for K-9 patrol team officers.\"\n",
    "query_5 = \"What should be included in in-service training and re-evaluation records?\""
   ]
  },
  {
   "cell_type": "markdown",
   "metadata": {},
   "source": [
    "### Questions with RAG\n",
    "\n",
    "#### Question 1 - with RAG"
   ]
  },
  {
   "cell_type": "code",
   "execution_count": 115,
   "metadata": {},
   "outputs": [
    {
     "name": "stdout",
     "output_type": "stream",
     "text": [
      "What is the purpose of a police patrol dog? \n",
      "\n",
      "According to Document 1, the purpose of a police patrol dog is to demonstrate the ability to properly search, find, and indicate or retrieve a variety of articles with a human scent (such as clothing, a gun, a wallet, or a screwdriver) within a specified area, including buildings and interior structures and extended, exterior areas of various terrains.\n"
     ]
    }
   ],
   "source": [
    "# get full response from chat bot\n",
    "full_response_text = bot.generate_response(query_1)\n",
    "\n",
    "print(query_1, '\\n')\n",
    "print(full_response_text)"
   ]
  },
  {
   "cell_type": "markdown",
   "metadata": {},
   "source": [
    "#### Question 2 - with RAG"
   ]
  },
  {
   "cell_type": "code",
   "execution_count": 108,
   "metadata": {},
   "outputs": [
    {
     "name": "stdout",
     "output_type": "stream",
     "text": [
      "The police patrol dog must exhibit the following abilities:\n",
      "\n",
      "- The ability to properly search, find, and indicate or retrieve a variety of articles with a human scent (such as clothing, a gun, a wallet, or a screwdriver) within a specified area, including buildings and interior structures and extended, exterior areas of various terrains.\n",
      "\n",
      "- The ability to respond to various commands while walking at the police officer handler's side.\n",
      "\n",
      "- The ability to properly control the police specialty dog during searches.\n",
      "\n",
      "- The ability to conduct proper searches to locate a \"suspect,\" \"subject,\" or \"evidence\" within buildings, interior structures and extended, exterior areas of various terrains.\n"
     ]
    }
   ],
   "source": [
    "# get full response from chat bot\n",
    "full_response_text = bot.generate_response(query_2)\n",
    "\n",
    "print(query_2, '\\n')\n",
    "print(full_response_text)"
   ]
  },
  {
   "cell_type": "markdown",
   "metadata": {},
   "source": [
    "#### Question 3 - with RAG"
   ]
  },
  {
   "cell_type": "code",
   "execution_count": 110,
   "metadata": {},
   "outputs": [
    {
     "name": "stdout",
     "output_type": "stream",
     "text": [
      "The A K-9 team is comprised of the police officer handler and the police dog.\n"
     ]
    }
   ],
   "source": [
    "# get full response from chat bot\n",
    "full_response_text = bot.generate_response(query_3)\n",
    "\n",
    "print(query_3, '\\n')\n",
    "print(full_response_text)"
   ]
  },
  {
   "cell_type": "markdown",
   "metadata": {},
   "source": [
    "#### Question 4 - with RAG"
   ]
  },
  {
   "cell_type": "code",
   "execution_count": 113,
   "metadata": {},
   "outputs": [
    {
     "name": "stdout",
     "output_type": "stream",
     "text": [
      "The passage describes the basic training for K-9 patrol teams in New Jersey Law Enforcement. The training encompasses police dog obedience, agility, scent work, criminal apprehension and handler protection, and socialization.\n"
     ]
    }
   ],
   "source": [
    "# get full response from chat bot\n",
    "full_response_text = bot.generate_response(query_4)\n",
    "\n",
    "print(query_4, '\\n')\n",
    "print(full_response_text)"
   ]
  },
  {
   "cell_type": "markdown",
   "metadata": {},
   "source": [
    "#### Question 5 - with RAG"
   ]
  },
  {
   "cell_type": "code",
   "execution_count": 114,
   "metadata": {},
   "outputs": [
    {
     "name": "stdout",
     "output_type": "stream",
     "text": [
      "What should be included in in-service training and re-evaluation records? \n",
      "\n",
      "According to the documents, in-service training and re-evaluation records should include the following information:\n",
      "\n",
      "- Content of training or re-evaluation program\n",
      "- Who participated in the training or re-evaluation\n",
      "- When and where the training or re-evaluation took place\n",
      "- Instructor's name and credentials\n",
      "- Assessment results and outcomes\n",
      "- Goals and objectives achieved\n",
      "- Accomplishments and certifications obtained\n"
     ]
    }
   ],
   "source": [
    "# get full response from chat bot\n",
    "full_response_text = bot.generate_response(query_5)\n",
    "\n",
    "print(query_5, '\\n')\n",
    "print(full_response_text)"
   ]
  },
  {
   "cell_type": "markdown",
   "metadata": {},
   "source": [
    "### Questions without RAG\n",
    "#### Question 1 - No RAG"
   ]
  },
  {
   "cell_type": "code",
   "execution_count": 117,
   "metadata": {},
   "outputs": [
    {
     "name": "stdout",
     "output_type": "stream",
     "text": [
      "What is the purpose of a police patrol dog? \n",
      "\n",
      "**Purpose of a Police Patrol Dog**\n",
      "\n",
      "A police patrol dog serves multiple important purposes for law enforcement agencies, including:\n",
      "\n",
      "**1. Criminal Detection and Prevention:**\n",
      "- Police patrol dogs are trained to detect and alert law enforcement officials to criminal activity, suspicious behavior, and potential threats.\n",
      "- By detecting dangerous criminals or individuals who pose a threat to public safety, patrol dogs help prevent crimes, protect communities, and maintain law and order.\n",
      "\n",
      "**2. Crime Prevention:**\n",
      "- Patrol dogs can help deter crime by intimidating potential criminals and making people less likely to commit crimes in areas where they are present.\n",
      "- Their presence can create a sense of security and deter individuals from committing crimes.\n",
      "\n",
      "**3. Search and Rescue Operations:**\n",
      "- Police patrol dogs are trained to assist law enforcement officers in searching for missing persons, lost children, and other individuals who are unable to find their way around.\n",
      "- Their keen sense of smell and ability to track down hidden clues can be invaluable in solving complex cases.\n",
      "\n",
      "**4. Public Safety and Crowd Control:**\n",
      "- Patrol dogs are used in crowd control situations to maintain order and prevent riots or protests.\n",
      "- Their presence can help reduce tensions, disperse crowds peacefully, and identify individuals who may be involved in disruptive behavior.\n",
      "\n",
      "**5. Narcotics Detection:**\n",
      "- In addition to their traditional role in crime prevention, police patrol dogs can also detect and track illegal drugs and substances in various settings, such as drug fairs, airports, and underground trafficking rings.\n",
      "- Their ability to sniff out hidden drugs and substances can disrupt drug trafficking activities and prevent harm to individuals and communities.\n",
      "\n",
      "**6. Search of Vehicles and Homes:**\n",
      "- Police patrol dogs can be used to search vehicles and homes in high-risk areas or on the basis of probable cause.\n",
      "- Their presence can help identify illegal items, weapons, or drugs that may be present.\n",
      "\n",
      "**7. Witness and Evidence Collection:**\n",
      "- Police patrol dogs are trained to collect evidence from crime scenes, accidents, or other incidents.\n",
      "- They can be used to identify witnesses, collect physical evidence, and preserve the scene for forensic investigations.\n",
      "\n",
      "**8. Crowd Management:**\n",
      "- Police patrol dogs can assist in crowd management operations during large events, protests, or demonstrations.\n",
      "- Their presence can help maintain order, disperse crowds peacefully, and identify individuals who may pose a threat to public safety.\n"
     ]
    }
   ],
   "source": [
    "full_response_text = bot.generate_response_without_rag(query_1)\n",
    "\n",
    "print(query_1, '\\n')\n",
    "print(full_response_text)"
   ]
  },
  {
   "cell_type": "markdown",
   "metadata": {},
   "source": [
    "#### Question 2 - No RAG"
   ]
  },
  {
   "cell_type": "code",
   "execution_count": 118,
   "metadata": {},
   "outputs": [
    {
     "name": "stdout",
     "output_type": "stream",
     "text": [
      "What abilities must the police patrol dog exhibit? \n",
      "\n",
      "The abilities the police patrol dog must exhibit can be categorized into three main areas:\n",
      "\n",
      "**1. Physical Abilities:**\n",
      "\n",
      "* **Agility:** The dog must be able to move quickly and efficiently, including running, jumping, and maneuvering through tight spaces.\n",
      "* **Strength:** The dog should be able to carry and handle suspects or criminals without compromising their safety.\n",
      "* **Endurance:** Police patrol dogs often work long shifts, so they need to be able to maintain their energy levels and physical fitness.\n",
      "* **Balance:** The dog must be able to balance on one leg while performing tasks, such as searching or tracking.\n",
      "\n",
      "**2. Behavioral Abilities:**\n",
      "\n",
      "* **Intelligence:** Police dogs need to be intelligent and able to learn new tasks and commands quickly.\n",
      "* **Alertness:** They must be alert to their surroundings and pick up on even the slightest signs of danger.\n",
      "* **Attention:** The dog must be able to focus and maintain attention during training and on the job.\n",
      "* **Social skills:** Police dogs often interact with people of different ages and backgrounds, so they need to be friendly and approachable.\n",
      "\n",
      "**3. Mental Abilities:**\n",
      "\n",
      "* **Learning ability:** The dog must be able to learn new commands and tasks, including obedience, tracking, and search.\n",
      "* **Problem-solving skills:** The dog must be able to solve problems and think critically to complete their tasks.\n",
      "* **Attention to detail:** The dog must be able to pay attention to even the smallest details in their environment.\n",
      "* **Emotional regulation:** Police dogs often face stressful situations, so they need to be able to manage their emotions and remain calm under pressure.\n",
      "\n",
      "It's important to note that the specific abilities required for a police patrol dog can vary depending on their breed, training program, and the specific tasks they are responsible for performing. However, these core abilities are essential for any dog who wants to join the police force.\n"
     ]
    }
   ],
   "source": [
    "query_2 = \"What abilities must the police patrol dog exhibit?\"\n",
    "\n",
    "full_response_text = bot.generate_response_without_rag(query_2)\n",
    "\n",
    "print(query_2, '\\n')\n",
    "print(full_response_text)"
   ]
  },
  {
   "cell_type": "markdown",
   "metadata": {},
   "source": [
    "#### Question 3 - No RAG"
   ]
  },
  {
   "cell_type": "code",
   "execution_count": 120,
   "metadata": {},
   "outputs": [
    {
     "name": "stdout",
     "output_type": "stream",
     "text": [
      "What is the A K-9 team comprised of? \n",
      "\n",
      "The context does not provide any information about the A K-9 team, so I cannot answer this question from the provided context.\n"
     ]
    }
   ],
   "source": [
    "full_response_text = bot.generate_response_without_rag(query_3)\n",
    "\n",
    "print(query_3, '\\n')\n",
    "print(full_response_text)"
   ]
  },
  {
   "cell_type": "code",
   "execution_count": 121,
   "metadata": {},
   "outputs": [
    {
     "name": "stdout",
     "output_type": "stream",
     "text": [
      "Describe the basic training for K-9 patrol team officers. \n",
      "\n",
      "Sure, here's a description of the basic training for K-9 patrol team officers:\n",
      "\n",
      "**Phase 1: Foundation Training**\n",
      "\n",
      "* **Basic Obedience Training:**\n",
      "    * Establish obedience commands such as sit, stay, come, heel, and down.\n",
      "    * Focus on commands in various locations and with distractions.\n",
      "    * Gradually introduce more complex commands and scenarios.\n",
      "* **Animal Handling and Control:**\n",
      "    * Learn proper handling techniques for dogs of different breeds and temperaments.\n",
      "    * Develop methods for controlling aggressive or reactive dogs.\n",
      "    * Understand basic animal welfare principles.\n",
      "* **Vehicle Control:**\n",
      "    * Get familiar with driving procedures and traffic laws.\n",
      "    * Practice handling and controlling a K-9 police vehicle.\n",
      "    * Understand emergency procedures in the vehicle.\n",
      "\n",
      "**Phase 2: Specialized Training**\n",
      "\n",
      "* **Scent Work Training:**\n",
      "    * Teach dogs to detect and identify specific scents associated with criminal activities.\n",
      "    * Develop advanced tracking and detection skills.\n",
      "    * Use different scents and environments to challenge the dog's abilities.\n",
      "* **Drug Detection Training:**\n",
      "    * Introduce drugs and their detection properties to dogs.\n",
      "    * Teach dogs to discriminate between legal and illegal substances.\n",
      "    * Develop advanced skills for drug searches and seizures.\n",
      "* **Search and Rescue Training:**\n",
      "    * Train dogs to find hidden objects or clues in various environments.\n",
      "    * Practice searching large areas and complex locations.\n",
      "    * Develop a strong working relationship with the dog.\n",
      "\n",
      "**Phase 3: Field Training**\n",
      "\n",
      "* **Basic Policing Skills:**\n",
      "    * Learn patrol procedures, including traffic stops, search and seizure, and citizen engagement.\n",
      "    * Develop communication skills for interacting with civilians.\n",
      "    * Understand the legal and ethical boundaries of police-dog interactions.\n",
      "* **Case-Based Training:**\n",
      "    * Gradually introduce real-world scenarios and complex cases.\n",
      "    * Encourage the K-9 team to develop critical thinking skills and problem-solving abilities.\n",
      "    * Develop a collaborative approach to solving crimes and protecting communities.\n",
      "\n",
      "**Additional Training:**\n",
      "\n",
      "* **Ongoing Professional Development:**\n",
      "    * K-9 handlers must complete regular training and refresher courses to maintain their skills.\n",
      "    * Attend conferences and workshops to stay updated on best practices and emerging technologies.\n",
      "* **Mentorship and Coaching:**\n",
      "    * Experienced K-9 handlers can mentor and coach newer members of the team.\n",
      "    * This allows for knowledge transfer and career development.\n",
      "\n",
      "Note that the specific training program may vary depending on the police department and the breed of dog being trained.\n"
     ]
    }
   ],
   "source": [
    "full_response_text = bot.generate_response_without_rag(query_4)\n",
    "\n",
    "print(query_4, '\\n')\n",
    "print(full_response_text)"
   ]
  },
  {
   "cell_type": "code",
   "execution_count": null,
   "metadata": {},
   "outputs": [],
   "source": [
    "full_response_text = bot.generate_response_without_rag(query_5)\n",
    "\n",
    "print(query_5, '\\n')\n",
    "print(full_response_text)"
   ]
  },
  {
   "cell_type": "markdown",
   "metadata": {},
   "source": [
    "## Conclusion:\n",
    "\n",
    "The chat bot performs much better with RAG access to the PDF document. With RAG the chat bot give shorter, more concise specific and accurate responses. Without RAG the chat bot gives a longer more imprecise response as it attempts to answer the question generally without specific reference the PDF"
   ]
  },
  {
   "cell_type": "code",
   "execution_count": null,
   "metadata": {},
   "outputs": [],
   "source": []
  },
  {
   "cell_type": "code",
   "execution_count": null,
   "metadata": {},
   "outputs": [],
   "source": []
  }
 ],
 "metadata": {
  "kernelspec": {
   "display_name": "Python 3.13.0 ('llm_env')",
   "language": "python",
   "name": "python3"
  },
  "language_info": {
   "codemirror_mode": {
    "name": "ipython",
    "version": 3
   },
   "file_extension": ".py",
   "mimetype": "text/x-python",
   "name": "python",
   "nbconvert_exporter": "python",
   "pygments_lexer": "ipython3",
   "version": "3.13.0"
  },
  "orig_nbformat": 4,
  "vscode": {
   "interpreter": {
    "hash": "be177944123d7ce23a018daf8222b015e203d18c371e227f92536f69fb9f5264"
   }
  }
 },
 "nbformat": 4,
 "nbformat_minor": 2
}
